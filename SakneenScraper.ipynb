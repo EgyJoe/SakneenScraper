{
 "cells": [
  {
   "cell_type": "code",
   "execution_count": 18,
   "metadata": {},
   "outputs": [
    {
     "name": "stdout",
     "output_type": "stream",
     "text": [
      "716 scraped lisitngs.\n"
     ]
    }
   ],
   "source": [
    "#Scraping Rent section\n",
    "from datetime import datetime\n",
    "import json\n",
    "import requests\n",
    "import io\n",
    "response = requests.post('https://app.sakneen.com/apis/marketplace/filters/rental?limit=30&page=1')\n",
    "x = json.loads(response.text)\n",
    "pages = x['numberOfPages']\n",
    "rows=[]\n",
    "for i in range(1, pages+1):\n",
    "    response = requests.post('https://app.sakneen.com/apis/marketplace/filters/rental?limit=30&page=' + str(i))\n",
    "    x = json.loads(response.text)\n",
    "    rows+=x['data']\n",
    "dt = datetime.now()\n",
    "dt = dt.strftime('%Y-%m-%d@%H.%M.%S')\n",
    "with io.open('Sakneen_Rent_' + str(dt) + '.json', encoding='utf-8', mode = \"w\") as f:\n",
    "    f.write(\"[\\n\")\n",
    "    i = 1\n",
    "    for row in rows:\n",
    "        x = json.dumps(row, ensure_ascii=False)\n",
    "        if i != len(rows):\n",
    "            f.write(\"\\t\" + x + \",\\n\")\n",
    "        else:\n",
    "            f.write(\"\\t\" + x + \"\\n\")\n",
    "        i+=1\n",
    "    f.write(\"]\")\n",
    "print(len(rows), 'scraped lisitngs.')"
   ]
  },
  {
   "cell_type": "code",
   "execution_count": 19,
   "metadata": {},
   "outputs": [
    {
     "name": "stdout",
     "output_type": "stream",
     "text": [
      "1000 scraped lisitngs.\n"
     ]
    }
   ],
   "source": [
    "#Scraping Sale section\n",
    "\n",
    "from datetime import datetime\n",
    "import json\n",
    "import requests\n",
    "import io\n",
    "response = requests.post('https://app.sakneen.com/apis/marketplace/filters/v2?limit=30&page=1')\n",
    "x = json.loads(response.text)\n",
    "pages = x['numberOfPages']\n",
    "rows=[]\n",
    "for i in range(1, pages+1):\n",
    "    response = requests.post('https://app.sakneen.com/apis/marketplace/filters/v2?limit=30&page=' + str(i))\n",
    "    x = json.loads(response.text)\n",
    "    rows+=x['data']\n",
    "\n",
    "dt = datetime.now()\n",
    "dt = dt.strftime('%Y-%m-%d@%H.%M.%S')\n",
    "with io.open('Sakneen_Sale_' + str(dt) + '.json', encoding='utf-8', mode = \"w\") as f:\n",
    "    f.write(\"[\\n\")\n",
    "    i = 1\n",
    "    for row in rows:\n",
    "        x = json.dumps(row, ensure_ascii=False)\n",
    "        if i != len(rows):\n",
    "            f.write(\"\\t\" + x + \",\\n\")\n",
    "        else:\n",
    "            f.write(\"\\t\" + x + \"\\n\")\n",
    "        i+=1\n",
    "    f.write(\"]\")\n",
    "print(len(rows), 'scraped lisitngs.')"
   ]
  }
 ],
 "metadata": {
  "interpreter": {
   "hash": "1310b17f8e2ecc2ea3962c4496a8c078565a380e982691bd0668cf9ede6f3102"
  },
  "kernelspec": {
   "display_name": "Python 3.10.2 64-bit",
   "language": "python",
   "name": "python3"
  },
  "language_info": {
   "codemirror_mode": {
    "name": "ipython",
    "version": 3
   },
   "file_extension": ".py",
   "mimetype": "text/x-python",
   "name": "python",
   "nbconvert_exporter": "python",
   "pygments_lexer": "ipython3",
   "version": "3.10.2"
  },
  "orig_nbformat": 4
 },
 "nbformat": 4,
 "nbformat_minor": 2
}
